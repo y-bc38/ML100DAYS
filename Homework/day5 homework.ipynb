{
 "cells": [
  {
   "cell_type": "code",
   "execution_count": 2,
   "metadata": {},
   "outputs": [],
   "source": [
    "import numpy as np"
   ]
  },
  {
   "cell_type": "code",
   "execution_count": 3,
   "metadata": {},
   "outputs": [],
   "source": [
    "english_score = np.array([55,89,76,65,48,70])\n",
    "math_score = np.array([60,85,60,68,np.nan,60])\n",
    "chinese_score = np.array([65,90,82,72,66,77])\n"
   ]
  },
  {
   "cell_type": "code",
   "execution_count": 20,
   "metadata": {},
   "outputs": [
    {
     "name": "stdout",
     "output_type": "stream",
     "text": [
      "平均成績: 67.16666666666667 最大值: 89 最小值 48 標準差: 13.433995020924426\n"
     ]
    }
   ],
   "source": [
    "#english\n",
    "print(\"平均成績:\",np.mean(english_score), \"最大值:\",np.nanmax(english_score), \"最小值\", np.nanmin(english_score), \"標準差:\",np.std(english_score))"
   ]
  },
  {
   "cell_type": "code",
   "execution_count": 23,
   "metadata": {},
   "outputs": [],
   "source": [
    "math_score = np.array([60,85,60,68,55,60])"
   ]
  },
  {
   "cell_type": "code",
   "execution_count": 22,
   "metadata": {},
   "outputs": [
    {
     "name": "stdout",
     "output_type": "stream",
     "text": [
      "平均成績: 64.66666666666667 最大值: 85 最小值 55 標準差: 9.860132971832694\n"
     ]
    }
   ],
   "source": [
    "#math\n",
    "print(\"平均成績:\",np.mean(math_score), \"最大值:\",np.nanmax(math_score), \"最小值\", np.nanmin(math_score), \"標準差:\",np.std(math_score))"
   ]
  },
  {
   "cell_type": "code",
   "execution_count": 37,
   "metadata": {},
   "outputs": [
    {
     "data": {
      "text/plain": [
       "array([[1.        , 0.7855563 , 0.97792828],\n",
       "       [0.7855563 , 1.        , 0.74056803],\n",
       "       [0.97792828, 0.74056803, 1.        ]])"
      ]
     },
     "execution_count": 37,
     "metadata": {},
     "output_type": "execute_result"
    }
   ],
   "source": [
    "#相關係數\n",
    "matrix = np.array([[55,89,76,65,48,70], [60,85,60,68,55,60], [65,90,82,72,66,77]])\n",
    "matrix\n",
    "np.corrcoef(matrix)\n",
    "#為國文"
   ]
  }
 ],
 "metadata": {
  "kernelspec": {
   "display_name": "Python 3",
   "language": "python",
   "name": "python3"
  },
  "language_info": {
   "codemirror_mode": {
    "name": "ipython",
    "version": 3
   },
   "file_extension": ".py",
   "mimetype": "text/x-python",
   "name": "python",
   "nbconvert_exporter": "python",
   "pygments_lexer": "ipython3",
   "version": "3.8.5"
  }
 },
 "nbformat": 4,
 "nbformat_minor": 4
}
