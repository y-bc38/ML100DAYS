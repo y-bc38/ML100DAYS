{
 "cells": [
  {
   "cell_type": "code",
   "execution_count": 1,
   "metadata": {},
   "outputs": [],
   "source": [
    "import numpy as np"
   ]
  },
  {
   "cell_type": "code",
   "execution_count": 48,
   "metadata": {},
   "outputs": [],
   "source": [
    "dt = np.dtype({'names':('name', 'sex', 'weight', 'rank', 'myopia'), 'formats':('U5', 'U4', int, int, 'U5')})"
   ]
  },
  {
   "cell_type": "code",
   "execution_count": 68,
   "metadata": {},
   "outputs": [
    {
     "data": {
      "text/plain": [
       "array([('', '', 0, 0, ''), ('', '', 0, 0, ''), ('', '', 0, 0, ''),\n",
       "       ('', '', 0, 0, ''), ('', '', 0, 0, ''), ('', '', 0, 0, ''),\n",
       "       ('', '', 0, 0, ''), ('', '', 0, 0, '')],\n",
       "      dtype=[('name', '<U5'), ('sex', '<U4'), ('weight', '<i4'), ('rank', '<i4'), ('myopia', '<U5')])"
      ]
     },
     "execution_count": 68,
     "metadata": {},
     "output_type": "execute_result"
    }
   ],
   "source": [
    "a = np.zeros(8, dtype=dt)\n",
    "a"
   ]
  },
  {
   "cell_type": "code",
   "execution_count": 69,
   "metadata": {},
   "outputs": [],
   "source": [
    "name_list = ['小明','小華','小菁','小美','小張','John','Mark','Tom']\n",
    "sex_list = ['boy','boy','girl','girl','boy','boy','boy','boy']\n",
    "weight_list = [67.5,75.3,50.1,45.5,80.8,90.4,78.4,70.7]\n",
    "rank_list = [8,1,5,4,7,6,2,3]\n",
    "myopia_list = [True,True,False,False,True,True,False,False]"
   ]
  },
  {
   "cell_type": "code",
   "execution_count": 70,
   "metadata": {},
   "outputs": [
    {
     "name": "stdout",
     "output_type": "stream",
     "text": [
      "[('小明', 'boy', 67, 8, 'True') ('小華', 'boy', 75, 1, 'True')\n",
      " ('小菁', 'girl', 50, 5, 'False') ('小美', 'girl', 45, 4, 'False')\n",
      " ('小張', 'boy', 80, 7, 'True') ('John', 'boy', 90, 6, 'True')\n",
      " ('Mark', 'boy', 78, 2, 'False') ('Tom', 'boy', 70, 3, 'False')]\n"
     ]
    }
   ],
   "source": [
    "a['name'] = name_list\n",
    "a['sex'] = sex_list\n",
    "a['weight'] = weight_list\n",
    "a['rank'] = rank_list\n",
    "a['myopia'] = myopia_list\n",
    "print(a)"
   ]
  },
  {
   "cell_type": "code",
   "execution_count": 54,
   "metadata": {},
   "outputs": [
    {
     "name": "stdout",
     "output_type": "stream",
     "text": [
      "weigt_mean: 69.375\n"
     ]
    }
   ],
   "source": [
    "np.mean(a['weight'])\n",
    "print(\"weigt_mean:\", np.mean(a['weight']))"
   ]
  },
  {
   "cell_type": "code",
   "execution_count": 64,
   "metadata": {},
   "outputs": [
    {
     "name": "stdout",
     "output_type": "stream",
     "text": [
      "boy_mean: 76.66666666666667 girl_mean: 47.5\n"
     ]
    }
   ],
   "source": [
    "np.where(a['sex']=='boy')\n",
    "boy_mean = np.mean(a['weight'][[0, 1, 4, 5, 6, 7]])\n",
    "np.where(a['sex']=='girl')\n",
    "girl_mean = np.mean(a['weight'][[2,3]])\n",
    "print(\"boy_mean:\" , boy_mean, \"girl_mean:\", girl_mean)"
   ]
  },
  {
   "cell_type": "code",
   "execution_count": null,
   "metadata": {},
   "outputs": [],
   "source": []
  }
 ],
 "metadata": {
  "kernelspec": {
   "display_name": "Python 3",
   "language": "python",
   "name": "python3"
  },
  "language_info": {
   "codemirror_mode": {
    "name": "ipython",
    "version": 3
   },
   "file_extension": ".py",
   "mimetype": "text/x-python",
   "name": "python",
   "nbconvert_exporter": "python",
   "pygments_lexer": "ipython3",
   "version": "3.8.5"
  }
 },
 "nbformat": 4,
 "nbformat_minor": 4
}
